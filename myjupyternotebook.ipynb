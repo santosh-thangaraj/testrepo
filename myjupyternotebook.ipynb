{
 "cells": [
  {
   "cell_type": "markdown",
   "id": "9e9362a3-ef96-4015-a500-8742fbf857b4",
   "metadata": {
    "tags": []
   },
   "source": [
    "# my jupyter notebook on IBM watson studio"
   ]
  },
  {
   "cell_type": "markdown",
   "id": "063f02af-6e89-429a-b3ac-1a36a18d1de1",
   "metadata": {},
   "source": [
    "---\n",
    "\n",
    "**santosh thangaraj**\n",
    "\n",
    "Data scientist\n",
    "\n",
    "---"
   ]
  },
  {
   "cell_type": "markdown",
   "id": "f59cbf5a-1b86-4237-a44b-b4c841bc4d0c",
   "metadata": {},
   "source": [
    "## *\"i am interested in data science because the work environment of a data scientist is what i am looking for and its fun\"*"
   ]
  },
  {
   "cell_type": "markdown",
   "id": "01593bb6-45e5-4881-b85c-435f89e2d917",
   "metadata": {},
   "source": [
    "### my code below will calculate the total amount of a bill"
   ]
  },
  {
   "cell_type": "code",
   "execution_count": 46,
   "id": "05f9800c-4088-407c-9a62-c6664823daf5",
   "metadata": {},
   "outputs": [
    {
     "name": "stdout",
     "output_type": "stream",
     "text": [
      "2100\n"
     ]
    }
   ],
   "source": [
    "bill = 2000\n",
    "GST = 100\n",
    "TOTAL = bill+GST\n",
    "print(TOTAL)"
   ]
  },
  {
   "cell_type": "markdown",
   "id": "0af1a8bc-04b9-42da-b141-b5e362495b23",
   "metadata": {},
   "source": [
    "| SRno.| NAME | GRADES |\n",
    "|------|:----:|-------:|\n",
    "|   1  |RAVI  |   B    |\n",
    "|   2  |SHIVA |   A    |\n",
    "|   3  |YASH  |   B    |"
   ]
  },
  {
   "cell_type": "markdown",
   "id": "fb7b4046-f842-46d4-96c6-449a936c25ed",
   "metadata": {},
   "source": [
    "1. LIST ONE\n",
    "2. LIST TWO\n",
    "3. LIST THREE"
   ]
  },
  {
   "cell_type": "markdown",
   "id": "ac05ea69-1dcc-4e44-85a8-9f1c455a43cf",
   "metadata": {},
   "source": [
    ">\"WAKE UP TO REALITY\""
   ]
  },
  {
   "cell_type": "markdown",
   "id": "00a6583a-fcc1-4b14-9e52-a2ac48cc0b7a",
   "metadata": {},
   "source": [
    "~~STRIKE THROUGH~~"
   ]
  },
  {
   "cell_type": "markdown",
   "id": "e2864f81-ea58-44f9-a120-600be0bee9e4",
   "metadata": {},
   "source": [
    "~~SMOKING~~"
   ]
  },
  {
   "cell_type": "code",
   "execution_count": null,
   "id": "4b283ce2-9dee-4df4-8d07-a121ab73fabd",
   "metadata": {},
   "outputs": [],
   "source": []
  },
  {
   "cell_type": "code",
   "execution_count": null,
   "id": "1ec30210-9cb5-499e-8146-8deec328b686",
   "metadata": {},
   "outputs": [],
   "source": []
  }
 ],
 "metadata": {
  "kernelspec": {
   "display_name": "Python",
   "language": "python",
   "name": "conda-env-python-py"
  },
  "language_info": {
   "codemirror_mode": {
    "name": "ipython",
    "version": 3
   },
   "file_extension": ".py",
   "mimetype": "text/x-python",
   "name": "python",
   "nbconvert_exporter": "python",
   "pygments_lexer": "ipython3",
   "version": "3.7.12"
  },
  "toc-autonumbering": false,
  "toc-showcode": false,
  "toc-showmarkdowntxt": true,
  "toc-showtags": true
 },
 "nbformat": 4,
 "nbformat_minor": 5
}
